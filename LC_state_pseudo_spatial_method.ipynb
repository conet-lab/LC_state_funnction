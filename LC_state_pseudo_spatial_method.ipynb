{
 "cells": [
  {
   "cell_type": "code",
   "execution_count": 1,
   "id": "f09ced85",
   "metadata": {},
   "outputs": [],
   "source": [
    "from scipy.special import ellipkinc as EllipticF\n",
    "#from scipy import ndimage, misc\n",
    "import math\n",
    "import numpy as np\n",
    "from tqdm import tqdm\n",
    "import matplotlib as plt\n"
   ]
  },
  {
   "cell_type": "code",
   "execution_count": 97,
   "id": "49e2cf72",
   "metadata": {},
   "outputs": [
    {
     "name": "stderr",
     "output_type": "stream",
     "text": [
      "ERROR: Could not find a version that satisfies the requirement jaxlib (from versions: none)\n",
      "ERROR: No matching distribution found for jaxlib\n"
     ]
    }
   ],
   "source": [
    "!pip install jaxlib"
   ]
  },
  {
   "cell_type": "code",
   "execution_count": 12,
   "id": "92941c69",
   "metadata": {},
   "outputs": [],
   "source": [
    "Lx = 100 #Grid size x-dimension\n",
    "Ly =100#Grid size y-dimension\n",
    "Nx = 256# Number of discretization points in x-direction\n",
    "Ny = 256  # Number of discretization points in y-direction\n",
    "T_End = 50\n",
    "tt=50 #fps\n",
    "dt=0.1\n",
    "N_ITERATIONS = int(T_End / dt)\n",
    "\n",
    "######\n",
    "loc = 0\n",
    "res_scale=0.15\n",
    "input_scale=0.75\n",
    "n_res = Nx**2\n",
    "nn = input_dim = 32\n",
    "scale1 = input_scale / (2*np.sqrt(input_dim))\n",
    "#scale2 = res_scale / np.sqrt(n_res)\n",
    "parallel_runs = 1\n",
    "input_to_defect_ratio = 64\n",
    "mm = int(n_res/input_to_defect_ratio)\n",
    "\n",
    "#Meshgrid of real an freq spacies\n",
    "x, y = np.meshgrid(np.arange(Nx) * Lx/Nx, np.arange(Ny) * Ly/Ny) #x-Array\n",
    "kx, ky = np.meshgrid(np.fft.fftfreq(Nx,Lx/(Nx*2.0*np.pi)), np.fft.fftfreq(Ny,Ly/(Ny*2.0*np.pi)))\n",
    "ksq = kx**2 + ky**2\n",
    "q = np.zeros([parallel_runs,int(np.sqrt(n_res)), int(np.sqrt(n_res))])\n",
    "\n",
    "#Matricies\n",
    "scale_matrix = np.ones(shape=(int(np.sqrt(input_to_defect_ratio)), int(np.sqrt(input_to_defect_ratio)), 1)) #/np.sqrt(self.input_to_defect_ratio)\n",
    "w1r = np.random.normal(loc, scale1, size=(mm,nn)) + np.random.normal(loc, scale1, size=(mm,nn)) * 1j\n",
    "w1l = np.random.normal(loc, scale1, size=(mm,nn)) + np.random.normal(loc, scale1, size=(mm,nn)) * 1j\n"
   ]
  },
  {
   "cell_type": "code",
   "execution_count": 13,
   "id": "bf350a48",
   "metadata": {},
   "outputs": [],
   "source": [
    "A_hat = np.zeros([parallel_runs,int(np.sqrt(n_res)), int(np.sqrt(n_res))],dtype=complex)\n",
    "def LC_state(E_in, A, N_n):\n",
    "        parallel_runs = E_in.shape[1]\n",
    "        ne = 1.5\n",
    "        no = 1.7\n",
    "        lamda = 0.532\n",
    "        L = 10 # sample thickness is 10mkm\n",
    "        k = 2*np.pi/lamda\n",
    "        A = np.tile(A, [1, 1, int(parallel_runs/A.shape[2])])\n",
    "        nx = A.real\n",
    "        ny = A.imag\n",
    "        psi = np.angle(A)\n",
    "        a = (no**2-ne**2)*(nx**2+ny**2)\n",
    "        delta = k*(ne*no*np.sqrt(a+2*ne**2+a*math.cos(2*k*L)/(a+ne**2))*EllipticF(\n",
    "            k*L, a/(a+ne**2))/(k*np.sqrt(a+2*ne**2+a*(math.cos(k*L)))) - no*L)\n",
    "        \n",
    "        # First Pass Through W1\n",
    "        P1_1 = w1r@E_in\n",
    "        P1_2 = w1l@E_in\n",
    "        P1_1 = P1_1.reshape(int(np.sqrt(mm)), int(np.sqrt(mm)), parallel_runs)\n",
    "        P1_2 = P1_2.reshape(int(np.sqrt(mm)), int(np.sqrt(mm)), parallel_runs)\n",
    "        \n",
    "        \n",
    "        P1_1 = np.kron(P1_1, scale_matrix)\n",
    "        P1_2 = np.kron(P1_2, scale_matrix)\n",
    "        \n",
    "        P1_1 = np.transpose(P1_1, (2,0,1))\n",
    "        P1_2 = np.transpose(P1_2, (2,0,1))\n",
    "\n",
    "        \n",
    "        # Second Pass Through LC\n",
    "        #P2_1 = np.exp(1j*delta/2)*(P1_1*np.cos(delta/2)+1j*P1_2*np.sin(delta/2)*np.exp(-1j*2*psi))\n",
    "        #P2_2 = np.exp(1j*delta/2)*(P1_2*np.cos(delta/2)+1j*P1_1*np.sin(delta/2)*np.exp(1j*2*psi))\n",
    "\n",
    "        \n",
    "        myu = np.power(np.abs(P1_1), 2) + np.power(np.abs(P1_2), 2)\n",
    "        A_t = np.transpose(A, (2,0,1))\n",
    "        N_n1 = N_n\n",
    "        for k in range(parallel_runs):\n",
    "            \n",
    "            A_hat[k,:,:] = np.fft.fft2(A_t[k,:,:])  \n",
    "\n",
    "            q[k,:,:] = myu[k,:,:] - ksq**2\n",
    "            coef1=((1+q[k,:,:]*dt)*np.exp(q[k,:,:]*dt)-1-2*dt*q[k,:,:])/(dt*q[k,:,:]**2)\n",
    "            coef2=(-np.exp(q[k,:,:]*dt)+1+dt*q[k,:,:])/(dt*q[k,:,:]**2)\n",
    "            \n",
    "            N_n = -np.fft.fft2(np.fft.ifft2(A_hat[k,:,:])*np.abs(np.fft.ifft2(A_hat[k,:,:]))**2)\n",
    "\n",
    "            \n",
    "            A_hat[k,:,:] = A_hat[k,:,:]*np.exp(q[k,:,:]*dt) + N_n*coef1 + N_n1*coef2\n",
    "        \n",
    "            A_t[k,:,:] = np.fft.ifft2(A_hat[k,:,:])\n",
    "        \n",
    "        N_nt = N_n\n",
    "        A_t_t = np.transpose(A_t, (1,2,0))\n",
    "        return (A_t_t, N_nt)"
   ]
  },
  {
   "cell_type": "code",
   "execution_count": 14,
   "id": "f828ab02",
   "metadata": {},
   "outputs": [
    {
     "name": "stderr",
     "output_type": "stream",
     "text": [
      "100%|████████████████████████████████████████████████████████████████████████████████| 500/500 [00:18<00:00, 26.67it/s]\n"
     ]
    },
    {
     "data": {
      "text/plain": [
       "(256, 256, 1)"
      ]
     },
     "execution_count": 14,
     "metadata": {},
     "output_type": "execute_result"
    }
   ],
   "source": [
    "A_0 = np.random.normal(0, 1, size=(int(np.sqrt(n_res)), int(np.sqrt(n_res)), parallel_runs))*0.05+ np.random.normal(\n",
    "                 0, 1, size=(int(np.sqrt(n_res)), int(np.sqrt(n_res)), parallel_runs)) * 0.05j\n",
    "#N_n_0 = np.zeros([int(np.sqrt(n_res)), int(np.sqrt(n_res)),parallel_runs])\n",
    "A_0_t = np.transpose(A_0, (2,0,1))\n",
    "\n",
    "A_0_hat = np.fft.fft2(A_0_t[0,:,:])\n",
    "N_n_0 = np.fft.fft2(np.fft.ifft2(A_0_hat)*np.abs(np.fft.ifft2(A_0_hat))**2)\n",
    "\n",
    "A_all = np.zeros([N_ITERATIONS,int(np.sqrt(n_res)), int(np.sqrt(n_res)),parallel_runs],dtype=complex)\n",
    "A_in = np.zeros([N_ITERATIONS,int(np.sqrt(n_res)), int(np.sqrt(n_res))])\n",
    "\n",
    "A = A_0\n",
    "N_n = N_n_0\n",
    "for index in tqdm(range(N_ITERATIONS)):\n",
    "    E_in = np.random.normal(0, 1, size=(nn, 1)) + np.random.normal(0, 1, size=(nn, 1)) * 1j\n",
    "    A,  N_n = LC_state(E_in, A, N_n)\n",
    "    A_all[index,:,:,:] = A[:,:,:]\n",
    "    A_in[index,:,:] = A_all[index,:,:,0].real*A_all[index,:,:,0].imag\n",
    "A.shape\n",
    "#A = np.transpose(A, (1,2,0))"
   ]
  },
  
   "source": [
    "%matplotlib inline\n",
    "from matplotlib import pyplot as plt\n",
    "fig = plt.figure( figsize=(10,10))\n",
    "#plt.imshow(A_in[1,1,290,:,:], cmap=plt.get_cmap('twilight'), aspect=\"auto\")\n",
    "im = plt.imshow(A_in[499,:,:], aspect=\"auto\")\n",
    "plt.colorbar(im)\n",
    "plt.xlabel('|A|')"
   ]
  },
 
